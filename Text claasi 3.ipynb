{
 "cells": [
  {
   "cell_type": "code",
   "execution_count": 3,
   "id": "3c258404",
   "metadata": {},
   "outputs": [],
   "source": [
    "data=\"You’re not off the hook yet. We just discussed the structure of a basic paragraph, which includes 3 types of sentences. However, not all paragraphs will be 5 sentences long, and many paragraphs will utilize a myriad of different sentence types.Okay, you might be wondering, then how many sentences are in a paragraph? Well, it depends. Technically, a paragraph can be one sentence long, or it can be over seven sentences long.Some people argue that a paragraph should be measured by its ideas and not its sentence lengths, but a good general rule of thumb is to keep your paragraphs between 3 to 5 sentences long. This ensures that you are brief but still thorough in your writing.\""
   ]
  },
  {
   "cell_type": "code",
   "execution_count": 4,
   "id": "95be3b1a",
   "metadata": {},
   "outputs": [
    {
     "data": {
      "text/plain": [
       "'You’re not off the hook yet. We just discussed the structure of a basic paragraph, which includes 3 types of sentences. However, not all paragraphs will be 5 sentences long, and many paragraphs will utilize a myriad of different sentence types.Okay, you might be wondering, then how many sentences are in a paragraph? Well, it depends. Technically, a paragraph can be one sentence long, or it can be over seven sentences long.Some people argue that a paragraph should be measured by its ideas and not its sentence lengths, but a good general rule of thumb is to keep your paragraphs between 3 to 5 sentences long. This ensures that you are brief but still thorough in your writing.'"
      ]
     },
     "execution_count": 4,
     "metadata": {},
     "output_type": "execute_result"
    }
   ],
   "source": [
    "data"
   ]
  },
  {
   "cell_type": "code",
   "execution_count": 5,
   "id": "f3d1d414",
   "metadata": {},
   "outputs": [],
   "source": [
    "import numpy as np # linear algebra\n",
    "import pandas as pd # data processing, CSV file I/O (e.g. pd.read_csv)\n",
    "import re"
   ]
  },
  {
   "cell_type": "code",
   "execution_count": 6,
   "id": "769832c9",
   "metadata": {},
   "outputs": [
    {
     "data": {
      "text/plain": [
       "'you’re not off the hook yet. we just discussed the structure of a basic paragraph, which includes 3 types of sentences. however, not all paragraphs will be 5 sentences long, and many paragraphs will utilize a myriad of different sentence types.okay, you might be wondering, then how many sentences are in a paragraph? well, it depends. technically, a paragraph can be one sentence long, or it can be over seven sentences long.some people argue that a paragraph should be measured by its ideas and not its sentence lengths, but a good general rule of thumb is to keep your paragraphs between 3 to 5 sentences long. this ensures that you are brief but still thorough in your writing.'"
      ]
     },
     "execution_count": 6,
     "metadata": {},
     "output_type": "execute_result"
    }
   ],
   "source": [
    "data = data.lower()\n",
    "data"
   ]
  },
  {
   "cell_type": "code",
   "execution_count": 7,
   "id": "298087b4",
   "metadata": {},
   "outputs": [
    {
     "data": {
      "text/plain": [
       "'youre not off the hook yet we just discussed the structure of a basic paragraph which includes 3 types of sentences however not all paragraphs will be 5 sentences long and many paragraphs will utilize a myriad of different sentence typesokay you might be wondering then how many sentences are in a paragraph well it depends technically a paragraph can be one sentence long or it can be over seven sentences longsome people argue that a paragraph should be measured by its ideas and not its sentence lengths but a good general rule of thumb is to keep your paragraphs between 3 to 5 sentences long this ensures that you are brief but still thorough in your writing'"
      ]
     },
     "execution_count": 7,
     "metadata": {},
     "output_type": "execute_result"
    }
   ],
   "source": [
    "data = re.sub('[^a-zA-z0-9\\s]','',data)\n",
    "data"
   ]
  },
  {
   "cell_type": "code",
   "execution_count": 9,
   "id": "11d42c1a",
   "metadata": {},
   "outputs": [
    {
     "name": "stdout",
     "output_type": "stream",
     "text": [
      "Requirement already satisfied: tensorflow-cpu in c:\\users\\om\\anaconda3\\lib\\site-packages (2.12.0)\n",
      "Requirement already satisfied: tensorflow-intel==2.12.0 in c:\\users\\om\\anaconda3\\lib\\site-packages (from tensorflow-cpu) (2.12.0)\n",
      "Requirement already satisfied: packaging in c:\\users\\om\\anaconda3\\lib\\site-packages (from tensorflow-intel==2.12.0->tensorflow-cpu) (20.9)\n",
      "Requirement already satisfied: protobuf!=4.21.0,!=4.21.1,!=4.21.2,!=4.21.3,!=4.21.4,!=4.21.5,<5.0.0dev,>=3.20.3 in c:\\users\\om\\anaconda3\\lib\\site-packages (from tensorflow-intel==2.12.0->tensorflow-cpu) (4.23.1)\n",
      "Requirement already satisfied: numpy<1.24,>=1.22 in c:\\users\\om\\anaconda3\\lib\\site-packages (from tensorflow-intel==2.12.0->tensorflow-cpu) (1.23.5)\n",
      "Requirement already satisfied: wrapt<1.15,>=1.11.0 in c:\\users\\om\\anaconda3\\lib\\site-packages (from tensorflow-intel==2.12.0->tensorflow-cpu) (1.12.1)\n",
      "Requirement already satisfied: grpcio<2.0,>=1.24.3 in c:\\users\\om\\anaconda3\\lib\\site-packages (from tensorflow-intel==2.12.0->tensorflow-cpu) (1.54.2)\n",
      "Requirement already satisfied: tensorboard<2.13,>=2.12 in c:\\users\\om\\anaconda3\\lib\\site-packages (from tensorflow-intel==2.12.0->tensorflow-cpu) (2.12.3)\n",
      "Requirement already satisfied: astunparse>=1.6.0 in c:\\users\\om\\anaconda3\\lib\\site-packages (from tensorflow-intel==2.12.0->tensorflow-cpu) (1.6.3)\n",
      "Requirement already satisfied: jax>=0.3.15 in c:\\users\\om\\anaconda3\\lib\\site-packages (from tensorflow-intel==2.12.0->tensorflow-cpu) (0.4.10)\n",
      "Requirement already satisfied: tensorflow-io-gcs-filesystem>=0.23.1 in c:\\users\\om\\anaconda3\\lib\\site-packages (from tensorflow-intel==2.12.0->tensorflow-cpu) (0.31.0)\n",
      "Requirement already satisfied: typing-extensions>=3.6.6 in c:\\users\\om\\anaconda3\\lib\\site-packages (from tensorflow-intel==2.12.0->tensorflow-cpu) (3.7.4.3)\n",
      "Requirement already satisfied: tensorflow-estimator<2.13,>=2.12.0 in c:\\users\\om\\anaconda3\\lib\\site-packages (from tensorflow-intel==2.12.0->tensorflow-cpu) (2.12.0)\n",
      "Requirement already satisfied: six>=1.12.0 in c:\\users\\om\\anaconda3\\lib\\site-packages (from tensorflow-intel==2.12.0->tensorflow-cpu) (1.15.0)\n",
      "Requirement already satisfied: setuptools in c:\\users\\om\\anaconda3\\lib\\site-packages (from tensorflow-intel==2.12.0->tensorflow-cpu) (52.0.0.post20210125)\n",
      "Requirement already satisfied: keras<2.13,>=2.12.0 in c:\\users\\om\\anaconda3\\lib\\site-packages (from tensorflow-intel==2.12.0->tensorflow-cpu) (2.12.0)\n",
      "Requirement already satisfied: opt-einsum>=2.3.2 in c:\\users\\om\\anaconda3\\lib\\site-packages (from tensorflow-intel==2.12.0->tensorflow-cpu) (3.3.0)\n",
      "Requirement already satisfied: h5py>=2.9.0 in c:\\users\\om\\anaconda3\\lib\\site-packages (from tensorflow-intel==2.12.0->tensorflow-cpu) (2.10.0)\n",
      "Requirement already satisfied: termcolor>=1.1.0 in c:\\users\\om\\anaconda3\\lib\\site-packages (from tensorflow-intel==2.12.0->tensorflow-cpu) (2.3.0)\n",
      "Requirement already satisfied: libclang>=13.0.0 in c:\\users\\om\\anaconda3\\lib\\site-packages (from tensorflow-intel==2.12.0->tensorflow-cpu) (16.0.0)\n",
      "Requirement already satisfied: gast<=0.4.0,>=0.2.1 in c:\\users\\om\\anaconda3\\lib\\site-packages (from tensorflow-intel==2.12.0->tensorflow-cpu) (0.4.0)\n",
      "Requirement already satisfied: flatbuffers>=2.0 in c:\\users\\om\\anaconda3\\lib\\site-packages (from tensorflow-intel==2.12.0->tensorflow-cpu) (23.5.9)\n",
      "Requirement already satisfied: absl-py>=1.0.0 in c:\\users\\om\\anaconda3\\lib\\site-packages (from tensorflow-intel==2.12.0->tensorflow-cpu) (1.4.0)\n",
      "Requirement already satisfied: google-pasta>=0.1.1 in c:\\users\\om\\anaconda3\\lib\\site-packages (from tensorflow-intel==2.12.0->tensorflow-cpu) (0.2.0)\n",
      "Requirement already satisfied: wheel<1.0,>=0.23.0 in c:\\users\\om\\anaconda3\\lib\\site-packages (from astunparse>=1.6.0->tensorflow-intel==2.12.0->tensorflow-cpu) (0.36.2)\n",
      "Requirement already satisfied: scipy>=1.7 in c:\\users\\om\\anaconda3\\lib\\site-packages (from jax>=0.3.15->tensorflow-intel==2.12.0->tensorflow-cpu) (1.10.1)\n",
      "Requirement already satisfied: ml-dtypes>=0.1.0 in c:\\users\\om\\anaconda3\\lib\\site-packages (from jax>=0.3.15->tensorflow-intel==2.12.0->tensorflow-cpu) (0.1.0)\n",
      "Requirement already satisfied: google-auth<3,>=1.6.3 in c:\\users\\om\\anaconda3\\lib\\site-packages (from tensorboard<2.13,>=2.12->tensorflow-intel==2.12.0->tensorflow-cpu) (2.18.1)\n",
      "Requirement already satisfied: requests<3,>=2.21.0 in c:\\users\\om\\anaconda3\\lib\\site-packages (from tensorboard<2.13,>=2.12->tensorflow-intel==2.12.0->tensorflow-cpu) (2.25.1)\n",
      "Requirement already satisfied: werkzeug>=1.0.1 in c:\\users\\om\\anaconda3\\lib\\site-packages (from tensorboard<2.13,>=2.12->tensorflow-intel==2.12.0->tensorflow-cpu) (1.0.1)\n",
      "Requirement already satisfied: markdown>=2.6.8 in c:\\users\\om\\anaconda3\\lib\\site-packages (from tensorboard<2.13,>=2.12->tensorflow-intel==2.12.0->tensorflow-cpu) (3.4.3)\n",
      "Requirement already satisfied: google-auth-oauthlib<1.1,>=0.5 in c:\\users\\om\\anaconda3\\lib\\site-packages (from tensorboard<2.13,>=2.12->tensorflow-intel==2.12.0->tensorflow-cpu) (1.0.0)\n",
      "Requirement already satisfied: tensorboard-data-server<0.8.0,>=0.7.0 in c:\\users\\om\\anaconda3\\lib\\site-packages (from tensorboard<2.13,>=2.12->tensorflow-intel==2.12.0->tensorflow-cpu) (0.7.0)\n",
      "Requirement already satisfied: rsa<5,>=3.1.4 in c:\\users\\om\\anaconda3\\lib\\site-packages (from google-auth<3,>=1.6.3->tensorboard<2.13,>=2.12->tensorflow-intel==2.12.0->tensorflow-cpu) (4.9)\n",
      "Requirement already satisfied: cachetools<6.0,>=2.0.0 in c:\\users\\om\\anaconda3\\lib\\site-packages (from google-auth<3,>=1.6.3->tensorboard<2.13,>=2.12->tensorflow-intel==2.12.0->tensorflow-cpu) (5.3.0)\n",
      "Requirement already satisfied: urllib3<2.0 in c:\\users\\om\\anaconda3\\lib\\site-packages (from google-auth<3,>=1.6.3->tensorboard<2.13,>=2.12->tensorflow-intel==2.12.0->tensorflow-cpu) (1.26.4)\n",
      "Requirement already satisfied: pyasn1-modules>=0.2.1 in c:\\users\\om\\anaconda3\\lib\\site-packages (from google-auth<3,>=1.6.3->tensorboard<2.13,>=2.12->tensorflow-intel==2.12.0->tensorflow-cpu) (0.3.0)\n",
      "Requirement already satisfied: requests-oauthlib>=0.7.0 in c:\\users\\om\\anaconda3\\lib\\site-packages (from google-auth-oauthlib<1.1,>=0.5->tensorboard<2.13,>=2.12->tensorflow-intel==2.12.0->tensorflow-cpu) (1.3.1)\n",
      "Requirement already satisfied: importlib-metadata>=4.4 in c:\\users\\om\\anaconda3\\lib\\site-packages (from markdown>=2.6.8->tensorboard<2.13,>=2.12->tensorflow-intel==2.12.0->tensorflow-cpu) (6.6.0)\n",
      "Requirement already satisfied: zipp>=0.5 in c:\\users\\om\\anaconda3\\lib\\site-packages (from importlib-metadata>=4.4->markdown>=2.6.8->tensorboard<2.13,>=2.12->tensorflow-intel==2.12.0->tensorflow-cpu) (3.4.1)\n",
      "Requirement already satisfied: pyasn1<0.6.0,>=0.4.6 in c:\\users\\om\\anaconda3\\lib\\site-packages (from pyasn1-modules>=0.2.1->google-auth<3,>=1.6.3->tensorboard<2.13,>=2.12->tensorflow-intel==2.12.0->tensorflow-cpu) (0.5.0)\n",
      "Requirement already satisfied: idna<3,>=2.5 in c:\\users\\om\\anaconda3\\lib\\site-packages (from requests<3,>=2.21.0->tensorboard<2.13,>=2.12->tensorflow-intel==2.12.0->tensorflow-cpu) (2.10)\n",
      "Requirement already satisfied: certifi>=2017.4.17 in c:\\users\\om\\anaconda3\\lib\\site-packages (from requests<3,>=2.21.0->tensorboard<2.13,>=2.12->tensorflow-intel==2.12.0->tensorflow-cpu) (2020.12.5)\n",
      "Requirement already satisfied: chardet<5,>=3.0.2 in c:\\users\\om\\anaconda3\\lib\\site-packages (from requests<3,>=2.21.0->tensorboard<2.13,>=2.12->tensorflow-intel==2.12.0->tensorflow-cpu) (4.0.0)\n",
      "Requirement already satisfied: oauthlib>=3.0.0 in c:\\users\\om\\anaconda3\\lib\\site-packages (from requests-oauthlib>=0.7.0->google-auth-oauthlib<1.1,>=0.5->tensorboard<2.13,>=2.12->tensorflow-intel==2.12.0->tensorflow-cpu) (3.2.2)\n",
      "Requirement already satisfied: pyparsing>=2.0.2 in c:\\users\\om\\anaconda3\\lib\\site-packages (from packaging->tensorflow-intel==2.12.0->tensorflow-cpu) (2.4.7)\n",
      "Note: you may need to restart the kernel to use updated packages.\n"
     ]
    }
   ],
   "source": [
    "pip install tensorflow-cpu"
   ]
  },
  {
   "cell_type": "code",
   "execution_count": 10,
   "id": "81289e91",
   "metadata": {},
   "outputs": [
    {
     "name": "stdout",
     "output_type": "stream",
     "text": [
      "Requirement already satisfied: keras in c:\\users\\om\\anaconda3\\lib\\site-packages (2.12.0)\n",
      "Note: you may need to restart the kernel to use updated packages.\n"
     ]
    }
   ],
   "source": [
    "pip install keras"
   ]
  },
  {
   "cell_type": "code",
   "execution_count": 11,
   "id": "a8b7f9df",
   "metadata": {},
   "outputs": [],
   "source": [
    "import tensorflow \n",
    "from keras.preprocessing.text import Tokenizer\n",
    "from keras.utils import pad_sequences\n",
    "from keras.models import Sequential\n",
    "from keras.layers import Dense, Embedding, LSTM, SpatialDropout1D"
   ]
  },
  {
   "cell_type": "code",
   "execution_count": 21,
   "id": "b11e8f49",
   "metadata": {},
   "outputs": [],
   "source": [
    "max_features = 2000\n",
    "tokenizer = Tokenizer(num_words=max_features, split=' ')\n",
    "tokenizer.fit_on_texts(data)\n",
    "X = tokenizer.texts_to_sequences(data)\n",
    "X = pad_sequences(X)"
   ]
  },
  {
   "cell_type": "code",
   "execution_count": 22,
   "id": "fb896475",
   "metadata": {},
   "outputs": [
    {
     "name": "stdout",
     "output_type": "stream",
     "text": [
      "Model: \"sequential_1\"\n",
      "_________________________________________________________________\n",
      " Layer (type)                Output Shape              Param #   \n",
      "=================================================================\n",
      " embedding_1 (Embedding)     (None, 1, 128)            256000    \n",
      "                                                                 \n",
      " spatial_dropout1d_1 (Spatia  (None, 1, 128)           0         \n",
      " lDropout1D)                                                     \n",
      "                                                                 \n",
      " lstm_1 (LSTM)               (None, 196)               254800    \n",
      "                                                                 \n",
      " dense_1 (Dense)             (None, 2)                 394       \n",
      "                                                                 \n",
      "=================================================================\n",
      "Total params: 511,194\n",
      "Trainable params: 511,194\n",
      "Non-trainable params: 0\n",
      "_________________________________________________________________\n",
      "None\n"
     ]
    }
   ],
   "source": [
    "embed_dim = 128\n",
    "lstm_out = 196\n",
    "\n",
    "model = Sequential()\n",
    "model.add(Embedding(max_features, embed_dim,input_length = X.shape[1]))\n",
    "model.add(SpatialDropout1D(0.4))\n",
    "model.add(LSTM(lstm_out, dropout=0.2, recurrent_dropout=0.2))\n",
    "model.add(Dense(2,activation='softmax'))\n",
    "model.compile(loss = 'categorical_crossentropy', optimizer='adam',metrics = ['accuracy'])\n",
    "print(model.summary())"
   ]
  },
  {
   "cell_type": "code",
   "execution_count": 23,
   "id": "308d2624",
   "metadata": {},
   "outputs": [
    {
     "name": "stdout",
     "output_type": "stream",
     "text": [
      "[[ 0  0  0 ...  0  0 15]\n",
      " [ 0  0  0 ...  0  0  6]\n",
      " [ 0  0  0 ...  0  0 11]\n",
      " ...\n",
      " [ 0  0  0 ...  0  0  8]\n",
      " [ 0  0  0 ...  0  0  3]\n",
      " [ 0  0  0 ...  0  0 13]]\n",
      "663/663 - 5s - 5s/epoch - 7ms/step\n",
      "positive\n"
     ]
    }
   ],
   "source": [
    "\n",
    "twt = tokenizer.texts_to_sequences(data)\n",
    "twt = pad_sequences(twt, maxlen=28, dtype='int32', value=0)\n",
    "print(twt)\n",
    "sentiment = model.predict(twt,batch_size=1,verbose = 2)[0]\n",
    "if(np.argmax(sentiment) == 0):\n",
    "    print(\"negative\")\n",
    "elif (np.argmax(sentiment) == 1):\n",
    "    print(\"positive\")"
   ]
  },
  {
   "cell_type": "code",
   "execution_count": null,
   "id": "1d5d0126",
   "metadata": {},
   "outputs": [],
   "source": []
  }
 ],
 "metadata": {
  "kernelspec": {
   "display_name": "Python 3",
   "language": "python",
   "name": "python3"
  },
  "language_info": {
   "codemirror_mode": {
    "name": "ipython",
    "version": 3
   },
   "file_extension": ".py",
   "mimetype": "text/x-python",
   "name": "python",
   "nbconvert_exporter": "python",
   "pygments_lexer": "ipython3",
   "version": "3.8.8"
  }
 },
 "nbformat": 4,
 "nbformat_minor": 5
}
